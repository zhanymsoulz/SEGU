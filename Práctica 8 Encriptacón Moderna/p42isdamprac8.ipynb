{
 "cells": [
  {
   "cell_type": "code",
   "execution_count": 2,
   "metadata": {},
   "outputs": [
    {
     "name": "stdout",
     "output_type": "stream",
     "text": [
      "{'iv': 'jCnr/ya29s6UH1zubYqZ1g==', 'ciphertext': '7HYJRpWZEkdsHMI7tnkMtg=='}\n",
      "key = b07548cd670c8de59cced86770d99b31\n",
      "bye.\n"
     ]
    }
   ],
   "source": [
    "import json\n",
    "from base64 import b64encode\n",
    "from Crypto.Cipher import AES\n",
    "from Crypto.Util.Padding import pad\n",
    "from Crypto.Random import get_random_bytes\n",
    "\n",
    "data = b\"secret\"\n",
    "data += b\" word\"\n",
    "\n",
    "key = get_random_bytes(16)\n",
    "cipher = AES.new(key, AES.MODE_CBC)\n",
    "ct_bytes = cipher.encrypt(pad(data, AES.block_size))\n",
    "\n",
    "iv = b64encode(cipher.iv).decode('utf-8')\n",
    "ct = b64encode(ct_bytes).decode('utf-8')\n",
    "\n",
    "result = {}\n",
    "result[\"iv\"] = iv\n",
    "result[\"ciphertext\"] = ct\n",
    "\n",
    "print(result)\n",
    "print(\"key = {}\".format(key.hex()))\n",
    "\n",
    "with open('data.json', 'w') as outfile:\n",
    "    json.dump(result, outfile)\n",
    "\n",
    "print(\"bye.\")\n",
    "\n"
   ]
  },
  {
   "cell_type": "code",
   "execution_count": 3,
   "metadata": {},
   "outputs": [
    {
     "name": "stdout",
     "output_type": "stream",
     "text": [
      "{'iv': 'jCnr/ya29s6UH1zubYqZ1g==', 'ciphertext': '7HYJRpWZEkdsHMI7tnkMtg=='}\n",
      "The message was:  b'secret word'\n"
     ]
    }
   ],
   "source": [
    "# DECRYPTION (decAESclassic.py)\n",
    "import json\n",
    "from base64 import b64decode\n",
    "from Crypto.Cipher import AES\n",
    "from Crypto.Util.Padding import unpad\n",
    "\n",
    "# We assume that the key was securely shared beforehand\n",
    "i = input(\"enter the key: \")\n",
    "\n",
    "try:\n",
    "    key = bytes.fromhex(i)  # bytes from a hexadecimal string\n",
    "except (ValueError, KeyError):\n",
    "    print(\"You entered a non-hexadecimal number\")\n",
    "    exit()\n",
    "\n",
    "try:\n",
    "    with open(\"data.json\") as json_data:\n",
    "        b64 = json.load(json_data)\n",
    "        print(b64)\n",
    "    iv = b64decode(b64['iv'])\n",
    "    ct = b64decode(b64['ciphertext'])\n",
    "    cipher = AES.new(key, AES.MODE_CBC, iv)\n",
    "    pt = unpad(cipher.decrypt(ct), AES.block_size)\n",
    "    print(\"The message was: \", pt)\n",
    "except (ValueError, KeyError):\n",
    "    print(\"Incorrect decryption\")\n"
   ]
  },
  {
   "cell_type": "markdown",
   "metadata": {},
   "source": [
    "EXERCISE 3"
   ]
  },
  {
   "cell_type": "code",
   "execution_count": 5,
   "metadata": {},
   "outputs": [
    {
     "ename": "OSError",
     "evalue": "[Errno 22] Invalid argument: '--f=c:\\\\Users\\\\2022\\\\AppData\\\\Roaming\\\\jupyter\\\\runtime\\\\kernel-v376c8c2e826b49e9cfd10bf4b72530f636f6d3d71.json'",
     "output_type": "error",
     "traceback": [
      "\u001b[1;31m---------------------------------------------------------------------------\u001b[0m",
      "\u001b[1;31mOSError\u001b[0m                                   Traceback (most recent call last)",
      "Cell \u001b[1;32mIn[5], line 16\u001b[0m\n\u001b[0;32m     14\u001b[0m input_filename \u001b[38;5;241m=\u001b[39m sys\u001b[38;5;241m.\u001b[39margv[\u001b[38;5;241m1\u001b[39m]\n\u001b[0;32m     15\u001b[0m \u001b[38;5;28;01mtry\u001b[39;00m:\n\u001b[1;32m---> 16\u001b[0m     \u001b[38;5;28;01mwith\u001b[39;00m \u001b[38;5;28;43mopen\u001b[39;49m\u001b[43m(\u001b[49m\u001b[43minput_filename\u001b[49m\u001b[43m,\u001b[49m\u001b[43m \u001b[49m\u001b[38;5;124;43m'\u001b[39;49m\u001b[38;5;124;43mrb\u001b[39;49m\u001b[38;5;124;43m'\u001b[39;49m\u001b[43m)\u001b[49m \u001b[38;5;28;01mas\u001b[39;00m file:\n\u001b[0;32m     17\u001b[0m         data \u001b[38;5;241m=\u001b[39m file\u001b[38;5;241m.\u001b[39mread()\n\u001b[0;32m     18\u001b[0m \u001b[38;5;28;01mexcept\u001b[39;00m \u001b[38;5;167;01mFileNotFoundError\u001b[39;00m:\n",
      "File \u001b[1;32m~\\AppData\\Roaming\\Python\\Python311\\site-packages\\IPython\\core\\interactiveshell.py:284\u001b[0m, in \u001b[0;36m_modified_open\u001b[1;34m(file, *args, **kwargs)\u001b[0m\n\u001b[0;32m    277\u001b[0m \u001b[38;5;28;01mif\u001b[39;00m file \u001b[38;5;129;01min\u001b[39;00m {\u001b[38;5;241m0\u001b[39m, \u001b[38;5;241m1\u001b[39m, \u001b[38;5;241m2\u001b[39m}:\n\u001b[0;32m    278\u001b[0m     \u001b[38;5;28;01mraise\u001b[39;00m \u001b[38;5;167;01mValueError\u001b[39;00m(\n\u001b[0;32m    279\u001b[0m         \u001b[38;5;124mf\u001b[39m\u001b[38;5;124m\"\u001b[39m\u001b[38;5;124mIPython won\u001b[39m\u001b[38;5;124m'\u001b[39m\u001b[38;5;124mt let you open fd=\u001b[39m\u001b[38;5;132;01m{\u001b[39;00mfile\u001b[38;5;132;01m}\u001b[39;00m\u001b[38;5;124m by default \u001b[39m\u001b[38;5;124m\"\u001b[39m\n\u001b[0;32m    280\u001b[0m         \u001b[38;5;124m\"\u001b[39m\u001b[38;5;124mas it is likely to crash IPython. If you know what you are doing, \u001b[39m\u001b[38;5;124m\"\u001b[39m\n\u001b[0;32m    281\u001b[0m         \u001b[38;5;124m\"\u001b[39m\u001b[38;5;124myou can use builtins\u001b[39m\u001b[38;5;124m'\u001b[39m\u001b[38;5;124m open.\u001b[39m\u001b[38;5;124m\"\u001b[39m\n\u001b[0;32m    282\u001b[0m     )\n\u001b[1;32m--> 284\u001b[0m \u001b[38;5;28;01mreturn\u001b[39;00m \u001b[43mio_open\u001b[49m\u001b[43m(\u001b[49m\u001b[43mfile\u001b[49m\u001b[43m,\u001b[49m\u001b[43m \u001b[49m\u001b[38;5;241;43m*\u001b[39;49m\u001b[43margs\u001b[49m\u001b[43m,\u001b[49m\u001b[43m \u001b[49m\u001b[38;5;241;43m*\u001b[39;49m\u001b[38;5;241;43m*\u001b[39;49m\u001b[43mkwargs\u001b[49m\u001b[43m)\u001b[49m\n",
      "\u001b[1;31mOSError\u001b[0m: [Errno 22] Invalid argument: '--f=c:\\\\Users\\\\2022\\\\AppData\\\\Roaming\\\\jupyter\\\\runtime\\\\kernel-v376c8c2e826b49e9cfd10bf4b72530f636f6d3d71.json'"
     ]
    }
   ],
   "source": [
    "import json\n",
    "import sys\n",
    "from base64 import b64encode\n",
    "from Crypto.Cipher import AES\n",
    "from Crypto.Util.Padding import pad\n",
    "from Crypto.Random import get_random_bytes\n",
    "\n",
    "# Ensure a filename is provided as a command-line argument\n",
    "if len(sys.argv) != 2:\n",
    "    print(\"Usage: python encFICH.py <file_to_encrypt>\")\n",
    "    sys.exit(1)\n",
    "\n",
    "# Read the file content\n",
    "input_filename = sys.argv[1]\n",
    "try:\n",
    "    with open(input_filename, 'rb') as file:\n",
    "        data = file.read()\n",
    "except FileNotFoundError:\n",
    "    print(f\"Error: File '{input_filename}' not found.\")\n",
    "    sys.exit(1)\n",
    "\n",
    "# Generate a random key and initialize AES in CBC mode\n",
    "key = get_random_bytes(16)  # AES-128\n",
    "cipher = AES.new(key, AES.MODE_CBC)\n",
    "\n",
    "# Encrypt the file content\n",
    "ct_bytes = cipher.encrypt(pad(data, AES.block_size))\n",
    "\n",
    "# Prepare JSON data\n",
    "iv = b64encode(cipher.iv).decode('utf-8')\n",
    "ct = b64encode(ct_bytes).decode('utf-8')\n",
    "\n",
    "result = {\n",
    "    \"iv\": iv,\n",
    "    \"ciphertext\": ct\n",
    "}\n",
    "\n",
    "# Save the JSON output\n",
    "output_filename = f\"{input_filename}.enc.json\"\n",
    "with open(output_filename, 'w') as outfile:\n",
    "    json.dump(result, outfile)\n",
    "\n",
    "# Print the key for decryption\n",
    "print(f\"Encryption complete. Encrypted file saved as '{output_filename}'.\")\n",
    "print(f\"Key (hex): {key.hex()}\")\n"
   ]
  }
 ],
 "metadata": {
  "kernelspec": {
   "display_name": "Python 3",
   "language": "python",
   "name": "python3"
  },
  "language_info": {
   "codemirror_mode": {
    "name": "ipython",
    "version": 3
   },
   "file_extension": ".py",
   "mimetype": "text/x-python",
   "name": "python",
   "nbconvert_exporter": "python",
   "pygments_lexer": "ipython3",
   "version": "3.11.1"
  }
 },
 "nbformat": 4,
 "nbformat_minor": 2
}
