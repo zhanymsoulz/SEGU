{
 "cells": [
  {
   "cell_type": "code",
   "execution_count": 1,
   "metadata": {},
   "outputs": [
    {
     "name": "stdout",
     "output_type": "stream",
     "text": [
      "Encrypted content written to output.enc\n"
     ]
    }
   ],
   "source": [
    "import string\n",
    "\n",
    "\n",
    "def caesar_encrypt(input_file, output_file, shift=3):\n",
    "    alphabet = string.ascii_lowercase\n",
    "    shifted_alphabet = alphabet[shift:] + alphabet[:shift]\n",
    "    table = str.maketrans(alphabet + alphabet.upper(), shifted_alphabet + shifted_alphabet.upper())\n",
    "    \n",
    "    with open(input_file, 'r') as infile, open(output_file, 'w') as outfile:\n",
    "        for line in infile:\n",
    "            outfile.write(line.translate(table))\n",
    "if __name__ == \"__main__\":\n",
    "    input_file = \"input.txt\"\n",
    "    output_file = \"output.enc\"\n",
    "    caesar_encrypt(input_file, output_file)\n",
    "    print(f\"Encrypted content written to {output_file}\")"
   ]
  },
  {
   "cell_type": "code",
   "execution_count": 2,
   "metadata": {},
   "outputs": [
    {
     "name": "stdout",
     "output_type": "stream",
     "text": [
      "Encrypted content written to output.txt\n"
     ]
    }
   ],
   "source": [
    "import string\n",
    "def caesar_decrypt(input_file, output_file, shift=3):\n",
    "    alphabet = string.ascii_lowercase\n",
    "    shifted_alphabet = alphabet[shift:] + alphabet[:shift]\n",
    "    table = str.maketrans(shifted_alphabet + shifted_alphabet.upper(), alphabet + alphabet.upper())\n",
    "    \n",
    "    with open(input_file, 'r') as infile, open(output_file, 'w') as outfile:\n",
    "        for line in infile:\n",
    "            outfile.write(line.translate(table))\n",
    "\n",
    "if __name__ == \"__main__\":\n",
    "    input_file = \"input.enc\"\n",
    "    output_file = \"output.txt\"\n",
    "    caesar_decrypt(input_file, output_file)\n",
    "    print(f\"Encrypted content written to {output_file}\")"
   ]
  },
  {
   "cell_type": "code",
   "execution_count": 3,
   "metadata": {},
   "outputs": [
    {
     "name": "stdout",
     "output_type": "stream",
     "text": [
      "Encrypted: output.enc  Decripted to: output.txt\n"
     ]
    }
   ],
   "source": [
    "import string\n",
    "def caesar_encrypt_general(input_file, output_file, shift):\n",
    "    alphabet = string.ascii_lowercase\n",
    "    shifted_alphabet = alphabet[shift:] + alphabet[:shift]\n",
    "    table = str.maketrans(alphabet + alphabet.upper(), shifted_alphabet + shifted_alphabet.upper())\n",
    "    \n",
    "    with open(input_file, 'r') as infile, open(output_file, 'w') as outfile:\n",
    "        for line in infile:\n",
    "            outfile.write(line.translate(table))\n",
    "\n",
    "def caesar_decrypt_general(input_file, output_file, shift):\n",
    "    alphabet = string.ascii_lowercase\n",
    "    shifted_alphabet = alphabet[shift:] + alphabet[:shift]\n",
    "    table = str.maketrans(shifted_alphabet + shifted_alphabet.upper(), alphabet + alphabet.upper())\n",
    "    \n",
    "    with open(input_file, 'r') as infile, open(output_file, 'w') as outfile:\n",
    "        for line in infile:\n",
    "            outfile.write(line.translate(table))\n",
    "\n",
    "if __name__ == \"__main__\":\n",
    "    input_file_enc = \"input.txt\"\n",
    "    output_file_enc = \"output.enc\"\n",
    "    input_file_dec = \"input.enc\"\n",
    "    output_file_dec = \"output.txt\"\n",
    "    caesar_encrypt_general(input_file_enc, output_file_enc, 6)\n",
    "    caesar_encrypt_general(input_file_dec, output_file_dec, 7)\n",
    "    print(f\"Encrypted: {output_file_enc}  Decripted to: {output_file_dec}\")\n"
   ]
  },
  {
   "cell_type": "code",
   "execution_count": 4,
   "metadata": {},
   "outputs": [
    {
     "name": "stdout",
     "output_type": "stream",
     "text": [
      "Shift 0:\n",
      "Ykmaoxjgj_Otluxsgzoig\n",
      "\n",
      "Shift 1:\n",
      "Xjlznwifi_Nsktwrfynhf\n",
      "\n",
      "Shift 2:\n",
      "Wikymvheh_Mrjsvqexmge\n",
      "\n",
      "Shift 3:\n",
      "Vhjxlugdg_Lqirupdwlfd\n",
      "\n",
      "Shift 4:\n",
      "Ugiwktfcf_Kphqtocvkec\n",
      "\n",
      "Shift 5:\n",
      "Tfhvjsebe_Jogpsnbujdb\n",
      "\n",
      "Shift 6:\n",
      "Seguirdad_Informatica\n",
      "\n",
      "Shift 7:\n",
      "Rdfthqczc_Hmenqlzshbz\n",
      "\n",
      "Shift 8:\n",
      "Qcesgpbyb_Gldmpkyrgay\n",
      "\n",
      "Shift 9:\n",
      "Pbdrfoaxa_Fkclojxqfzx\n",
      "\n",
      "Shift 10:\n",
      "Oacqenzwz_Ejbkniwpeyw\n",
      "\n",
      "Shift 11:\n",
      "Nzbpdmyvy_Diajmhvodxv\n",
      "\n",
      "Shift 12:\n",
      "Myaoclxux_Chzilguncwu\n",
      "\n",
      "Shift 13:\n",
      "Lxznbkwtw_Bgyhkftmbvt\n",
      "\n",
      "Shift 14:\n",
      "Kwymajvsv_Afxgjeslaus\n",
      "\n",
      "Shift 15:\n",
      "Jvxlziuru_Zewfidrkztr\n",
      "\n",
      "Shift 16:\n",
      "Iuwkyhtqt_Ydvehcqjysq\n",
      "\n",
      "Shift 17:\n",
      "Htvjxgsps_Xcudgbpixrp\n",
      "\n",
      "Shift 18:\n",
      "Gsuiwfror_Wbtcfaohwqo\n",
      "\n",
      "Shift 19:\n",
      "Frthveqnq_Vasbezngvpn\n",
      "\n",
      "Shift 20:\n",
      "Eqsgudpmp_Uzradymfuom\n",
      "\n",
      "Shift 21:\n",
      "Dprftcolo_Tyqzcxletnl\n",
      "\n",
      "Shift 22:\n",
      "Coqesbnkn_Sxpybwkdsmk\n",
      "\n",
      "Shift 23:\n",
      "Bnpdramjm_Rwoxavjcrlj\n",
      "\n",
      "Shift 24:\n",
      "Amocqzlil_Qvnwzuibqki\n",
      "\n",
      "Shift 25:\n",
      "Zlnbpykhk_Pumvythapjh\n",
      "\n"
     ]
    }
   ],
   "source": [
    "import string\n",
    "def caesar_bruteforce(input_file):\n",
    "    alphabet = string.ascii_lowercase\n",
    "    \n",
    "    with open(input_file, 'r') as infile:\n",
    "        cipher_text = infile.read()\n",
    "    \n",
    "    for shift in range(len(alphabet)):\n",
    "        shifted_alphabet = alphabet[shift:] + alphabet[:shift]\n",
    "        table = str.maketrans(shifted_alphabet + shifted_alphabet.upper(), alphabet + alphabet.upper())\n",
    "        print(f\"Shift {shift}:\\n{cipher_text.translate(table)}\\n\")\n",
    "\n",
    "if __name__ == \"__main__\":\n",
    "    caesar_bruteforce('output.enc')"
   ]
  },
  {
   "cell_type": "code",
   "execution_count": 5,
   "metadata": {},
   "outputs": [
    {
     "name": "stdout",
     "output_type": "stream",
     "text": [
      "ejyfmvthczxdobkngqlpariwus\n"
     ]
    }
   ],
   "source": [
    "import random\n",
    "import string\n",
    "\n",
    "def random_alphabet_permutation():\n",
    "    alphabet = list(string.ascii_lowercase)\n",
    "    random.shuffle(alphabet)\n",
    "    return ''.join(alphabet)\n",
    "def mono_encrypt(input_file, output_file, key):\n",
    "    alphabet = string.ascii_lowercase\n",
    "    table = str.maketrans(alphabet + alphabet.upper(), key + key.upper())\n",
    "    \n",
    "    with open(input_file, 'r') as infile, open(output_file, 'w') as outfile:\n",
    "        outfile.write(key + '\\n')  \n",
    "        for line in infile:\n",
    "            outfile.write(line.translate(table))\n",
    "\n",
    "def mono_decrypt(input_file, output_file):\n",
    "    with open(input_file, 'r') as infile:\n",
    "        key = infile.readline().strip()\n",
    "        cipher_text = infile.read()\n",
    "    \n",
    "    alphabet = string.ascii_lowercase\n",
    "    table = str.maketrans(key + key.upper(), alphabet + alphabet.upper())\n",
    "    \n",
    "    with open(output_file, 'w') as outfile:\n",
    "        outfile.write(cipher_text.translate(table))\n",
    "if __name__ == \"__main__\":\n",
    "    input_file_enc = \"input.txt\"\n",
    "    output_file_enc = \"output.enc\"\n",
    "    input_file_dec = \"input.enc\"\n",
    "    output_file_dec = \"output.txt\"\n",
    "    \n",
    "    print(random_alphabet_permutation())\n",
    "    key = random_alphabet_permutation()\n",
    "    mono_encrypt('input.txt', 'output.enc', key)\n",
    "    mono_decrypt('output.enc', 'output.txt')"
   ]
  },
  {
   "cell_type": "code",
   "execution_count": 6,
   "metadata": {},
   "outputs": [
    {
     "name": "stdout",
     "output_type": "stream",
     "text": [
      "frequencies.txt was overriden\n"
     ]
    }
   ],
   "source": [
    "from collections import Counter\n",
    "import string\n",
    "\n",
    "def frequency_analysis(input_file, output_file, n):\n",
    "    with open(input_file, 'r') as infile:\n",
    "        text = infile.read().lower()\n",
    "    \n",
    "    \n",
    "    counts = Counter(char for char in text if char in string.ascii_lowercase)\n",
    "    sorted_counts = counts.most_common(n)\n",
    "    \n",
    "    with open(output_file, 'w') as outfile:\n",
    "        outfile.write(\"Letter Frequency\\n\")\n",
    "        for letter, freq in sorted_counts:\n",
    "            outfile.write(f\"{letter}: {freq}\\n\")\n",
    "\n",
    "if __name__ == \"__main__\":\n",
    "    frequency_analysis('input.txt', 'frequencies.txt', 26)\n",
    "    print(\"frequencies.txt was overriden\")"
   ]
  }
 ],
 "metadata": {
  "kernelspec": {
   "display_name": "Python 3",
   "language": "python",
   "name": "python3"
  },
  "language_info": {
   "codemirror_mode": {
    "name": "ipython",
    "version": 3
   },
   "file_extension": ".py",
   "mimetype": "text/x-python",
   "name": "python",
   "nbconvert_exporter": "python",
   "pygments_lexer": "ipython3",
   "version": "3.11.1"
  }
 },
 "nbformat": 4,
 "nbformat_minor": 2
}
