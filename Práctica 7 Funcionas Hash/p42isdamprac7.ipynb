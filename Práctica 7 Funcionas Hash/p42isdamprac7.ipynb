{
 "cells": [
  {
   "cell_type": "markdown",
   "metadata": {},
   "source": [
    "#Exercise 1 SHA256"
   ]
  },
  {
   "cell_type": "code",
   "execution_count": 3,
   "metadata": {},
   "outputs": [
    {
     "name": "stdout",
     "output_type": "stream",
     "text": [
      "Digest: b'\\xca\\xd4\\xc5b>\\xfc\\n\\xe6}\\xbe\\x82t\\xe7\\xff\\xc1\\x84\\xca\\x91\\xdf7\\xa8\\xe8DbB@\\xf8\\xee\\xf10\\x0c\\xe7'\n",
      "Hex Digest: cad4c5623efc0ae67dbe8274e7ffc184ca91df37a8e844624240f8eef1300ce7\n",
      "Digest Size (bytes): 32\n",
      "Block Size (bytes): 64\n"
     ]
    }
   ],
   "source": [
    "from Crypto.Hash import SHA256\n",
    "\n",
    "\n",
    "def test_sha256():\n",
    "    hash_object = SHA256.new(data=b'First')\n",
    "    hash_object.update(b'Second')\n",
    "    print(\"Digest:\", hash_object.digest())\n",
    "    print(\"Hex Digest:\", hash_object.hexdigest())\n",
    "    print(\"Digest Size (bytes):\", hash_object.digest_size)\n",
    "    print(\"Block Size (bytes):\", hash_object.block_size)\n",
    "\n",
    "test_sha256()\n"
   ]
  },
  {
   "cell_type": "markdown",
   "metadata": {},
   "source": [
    "Exercise 2"
   ]
  },
  {
   "cell_type": "code",
   "execution_count": 4,
   "metadata": {},
   "outputs": [],
   "source": [
    "from Crypto.Hash import MD5\n",
    "\n",
    "def test_md5_variation():\n",
    "    hash1 = MD5.new(data=b'Hello, World!')\n",
    "    hash2 = MD5.new(data=b'Hello, world!')  \n",
    "    print(\"MD5 Hash 1:\", hash1.hexdigest())\n",
    "    print(\"MD5 Hash 2:\", hash2.hexdigest())\n",
    "\n",
    "\n"
   ]
  },
  {
   "cell_type": "code",
   "execution_count": 5,
   "metadata": {},
   "outputs": [
    {
     "name": "stdout",
     "output_type": "stream",
     "text": [
      "MD5 Hash 1: 65a8e27d8879283831b664bd8b7f0ad4\n",
      "MD5 Hash 2: 6cd3556deb0da54bca060b4c39479839\n"
     ]
    }
   ],
   "source": [
    "test_md5_variation()\n"
   ]
  },
  {
   "cell_type": "markdown",
   "metadata": {},
   "source": [
    "Exercise 3"
   ]
  },
  {
   "cell_type": "code",
   "execution_count": 11,
   "metadata": {},
   "outputs": [],
   "source": [
    "def file_md5_hash(filename):\n",
    "    with open(filename, 'rb') as f:\n",
    "        hash_object = MD5.new()\n",
    "        while chunk := f.read(8192):\n",
    "            hash_object.update(chunk)\n",
    "    return hash_object.hexdigest()"
   ]
  },
  {
   "cell_type": "code",
   "execution_count": 8,
   "metadata": {},
   "outputs": [
    {
     "name": "stdout",
     "output_type": "stream",
     "text": [
      "MD5 Hash of file: 952d2c56d0485958336747bcdd98590d\n"
     ]
    }
   ],
   "source": [
    "print(\"MD5 Hash of file:\", file_md5_hash('example.txt'))\n"
   ]
  },
  {
   "cell_type": "markdown",
   "metadata": {},
   "source": [
    "Exercise 4"
   ]
  },
  {
   "cell_type": "code",
   "execution_count": 12,
   "metadata": {},
   "outputs": [],
   "source": [
    "def compare_md5_files(file1, file2):\n",
    "    hash1 = file_md5_hash(file1)\n",
    "    hash2 = file_md5_hash(file2)\n",
    "    return hash1 == hash2"
   ]
  },
  {
   "cell_type": "code",
   "execution_count": 15,
   "metadata": {},
   "outputs": [
    {
     "name": "stdout",
     "output_type": "stream",
     "text": [
      "Files Match: False\n"
     ]
    }
   ],
   "source": [
    "print(\"Files Match:\", compare_md5_files('file1.txt', 'file2.txt'))\n"
   ]
  },
  {
   "cell_type": "markdown",
   "metadata": {},
   "source": [
    "Exercise 5"
   ]
  },
  {
   "cell_type": "code",
   "execution_count": 16,
   "metadata": {},
   "outputs": [],
   "source": [
    "def verify_md5_hash(file, expected_hash):\n",
    "    file_hash = file_md5_hash(file)\n",
    "    return file_hash == expected_hash"
   ]
  },
  {
   "cell_type": "code",
   "execution_count": 18,
   "metadata": {},
   "outputs": [
    {
     "name": "stdout",
     "output_type": "stream",
     "text": [
      "Hash Verified: False\n"
     ]
    }
   ],
   "source": [
    "print(\"Hash Verified:\", verify_md5_hash('example.txt', 'expected_md5_hash'))\n"
   ]
  },
  {
   "cell_type": "markdown",
   "metadata": {},
   "source": [
    "Exercise 6 repeat drom 1-5"
   ]
  },
  {
   "cell_type": "code",
   "execution_count": 19,
   "metadata": {},
   "outputs": [],
   "source": [
    "def file_sha256_hash(filename):\n",
    "    with open(filename, 'rb') as f:\n",
    "        hash_object = SHA256.new()\n",
    "        while chunk := f.read(8192):\n",
    "            hash_object.update(chunk)\n",
    "    return hash_object.hexdigest()"
   ]
  },
  {
   "cell_type": "code",
   "execution_count": 25,
   "metadata": {},
   "outputs": [
    {
     "name": "stdout",
     "output_type": "stream",
     "text": [
      "SHA256 Hash of file: bbc7f4c8a2dd11e398bff6829bcb6ed400edbfeb176262b52ca37318da3c5f67\n"
     ]
    }
   ],
   "source": [
    "print(\"SHA256 Hash of file:\", file_sha256_hash('example.txt'))\n"
   ]
  },
  {
   "cell_type": "code",
   "execution_count": 21,
   "metadata": {},
   "outputs": [],
   "source": [
    "def compare_sha256_files(file1, file2):\n",
    "    hash1 = file_sha256_hash(file1)\n",
    "    hash2 = file_sha256_hash(file2)\n",
    "    return hash1 == hash2"
   ]
  },
  {
   "cell_type": "code",
   "execution_count": 22,
   "metadata": {},
   "outputs": [
    {
     "name": "stdout",
     "output_type": "stream",
     "text": [
      "Files Match: False\n"
     ]
    }
   ],
   "source": [
    "print(\"Files Match:\", compare_sha256_files('file1.txt', 'file2.txt'))\n"
   ]
  },
  {
   "cell_type": "code",
   "execution_count": 26,
   "metadata": {},
   "outputs": [],
   "source": [
    "def verify_sha256_hash(file, expected_hash):\n",
    "    file_hash = file_sha256_hash(file)\n",
    "    return file_hash == expected_hash"
   ]
  },
  {
   "cell_type": "code",
   "execution_count": 27,
   "metadata": {},
   "outputs": [
    {
     "name": "stdout",
     "output_type": "stream",
     "text": [
      "Hash Verified: False\n"
     ]
    }
   ],
   "source": [
    "print(\"Hash Verified:\", verify_sha256_hash('example.txt', 'expected_sha256_hash'))\n"
   ]
  },
  {
   "cell_type": "markdown",
   "metadata": {},
   "source": [
    "HMAC implementation ex 1"
   ]
  },
  {
   "cell_type": "code",
   "execution_count": 29,
   "metadata": {},
   "outputs": [
    {
     "name": "stdout",
     "output_type": "stream",
     "text": [
      "HMAC (Hex Digest): 1141dafd14462dc39a3e1107e41412b3ad2718496679ae3a0f701407dc875f49\n"
     ]
    }
   ],
   "source": [
    "from Crypto.Hash import HMAC, SHA256\n",
    "\n",
    "secret_key = b'Swordfish'\n",
    "data = b'Hello'\n",
    "hmac_object = HMAC.new(secret_key, digestmod=SHA256)\n",
    "hmac_object.update(data)\n",
    "print(\"HMAC (Hex Digest):\", hmac_object.hexdigest())\n"
   ]
  },
  {
   "cell_type": "markdown",
   "metadata": {},
   "source": [
    "HMAC ex 3"
   ]
  },
  {
   "cell_type": "code",
   "execution_count": 30,
   "metadata": {},
   "outputs": [],
   "source": [
    "from Crypto.Hash import HMAC\n",
    "\n",
    "def generate_hmac(filename, key):\n",
    "    with open(filename, 'rb') as f:\n",
    "        data = f.read()\n",
    "    hmac_object = HMAC.new(key.encode(), digestmod=SHA256)\n",
    "    hmac_object.update(data)\n",
    "    return hmac_object.hexdigest()"
   ]
  },
  {
   "cell_type": "code",
   "execution_count": 31,
   "metadata": {},
   "outputs": [
    {
     "name": "stdout",
     "output_type": "stream",
     "text": [
      "HMAC: 6c36bca91a76d748895aced1d117e5301591749da22e3937b58f94beef8b33c6\n"
     ]
    }
   ],
   "source": [
    "print(\"HMAC:\", generate_hmac('example.txt', 'secret_key'))\n"
   ]
  },
  {
   "cell_type": "markdown",
   "metadata": {},
   "source": [
    "HMAC ex 4"
   ]
  },
  {
   "cell_type": "code",
   "execution_count": 32,
   "metadata": {},
   "outputs": [],
   "source": [
    "def verify_hmac(filename, key, expected_hmac):\n",
    "    computed_hmac = generate_hmac(filename, key)\n",
    "    return computed_hmac == expected_hmac"
   ]
  },
  {
   "cell_type": "code",
   "execution_count": 33,
   "metadata": {},
   "outputs": [
    {
     "name": "stdout",
     "output_type": "stream",
     "text": [
      "HMAC Verified: False\n"
     ]
    }
   ],
   "source": [
    "print(\"HMAC Verified:\", verify_hmac('example.txt', 'secret_key', 'expected_hmac_value'))\n"
   ]
  }
 ],
 "metadata": {
  "kernelspec": {
   "display_name": "Python 3",
   "language": "python",
   "name": "python3"
  },
  "language_info": {
   "codemirror_mode": {
    "name": "ipython",
    "version": 3
   },
   "file_extension": ".py",
   "mimetype": "text/x-python",
   "name": "python",
   "nbconvert_exporter": "python",
   "pygments_lexer": "ipython3",
   "version": "3.11.1"
  }
 },
 "nbformat": 4,
 "nbformat_minor": 2
}
